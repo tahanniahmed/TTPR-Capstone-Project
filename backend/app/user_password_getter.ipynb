{
 "cells": [
  {
   "cell_type": "code",
   "execution_count": 1,
   "id": "bc7301e4",
   "metadata": {},
   "outputs": [],
   "source": [
    "import requests\n",
    "import re"
   ]
  },
  {
   "cell_type": "code",
   "execution_count": null,
   "id": "97b16edb",
   "metadata": {},
   "outputs": [
    {
     "name": "stdout",
     "output_type": "stream",
     "text": [
      "Encoded: dGhlUGFzc3dvcmQ=\n"
     ]
    }
   ],
   "source": [
    "import json\n",
    "import base64\n",
    "\n",
    "# to maintain the integrity of the password, we will obfuscate it using base64 encoding for this project.\n",
    "# this is only to demostrate the concept of obfuscation and should not be used in production code, we only feed the actual password to the program because it is not part of the list in order to protect access to the VM. \n",
    "actual_password = input(\"PASSWORD: \")\n",
    "with open('password_key.json', 'w') as pass_key:\n",
    "    # encode (obfuscate)\n",
    "    actual_password = base64.b64encode(actual_password.encode()).decode()\n",
    "    print(\"Encoded:\", actual_password)\n",
    "    pass_data = pass_key.write(json.dumps({\"pass_key\": actual_password}))\n",
    "\n",
    "# web scraping the password list from KoreLogic's SecLists repository\n",
    "# this is a list of common passwords that can be used for testing purposes.\n",
    "url = 'https://raw.githubusercontent.com/danielmiessler/SecLists/refs/heads/master/Passwords/Permutations/korelogic-password.txt'\n",
    "\n",
    "data = requests.get(url)\n",
    "passwords = data.text.splitlines()\n",
    "\n",
    "for password in passwords:\n",
    "    with open('passwords.txt', 'a') as password_file:\n",
    "        password_file.write(password + '\\n')\n",
    "        \n",
    "with open('password_key.json', 'r') as pass_key:\n",
    "    # decode (restore)\n",
    "    decoded = base64.b64decode(actual_password.encode()).decode()\n",
    "\n",
    "# adding the actual password to the passwords.txt file\n",
    "with open('passwords.txt', 'a') as password_file:\n",
    "    password_file.write(decoded + '\\n')"
   ]
  },
  {
   "cell_type": "code",
   "execution_count": null,
   "id": "c3101b80",
   "metadata": {},
   "outputs": [
    {
     "name": "stdout",
     "output_type": "stream",
     "text": [
      "WARNING: This script is intended for educational purposes only. Unauthorized access to computer systems is illegal and unethical.\n",
      "Only run this script on testing environments where you have explicit permission to perform security testing.\n",
      "\n",
      "Initializing Attack...\n",
      "ip address file has been updated\n",
      "username file has been updated\n"
     ]
    }
   ],
   "source": [
    "import json\n",
    "\n",
    "print(\"WARNING: This script is intended for educational purposes only. Unauthorized access to computer systems is illegal and unethical.\")\n",
    "print(\"Only run this script on testing environments where you have explicit permission to perform security testing.\")\n",
    "print()\n",
    "print(\"Initializing Attack...\")\n",
    "\n",
    "targetIP = \"target_ip.json\"\n",
    "with open(targetIP, \"r\") as ipAddress_key:\n",
    "    target_ip = json.load(ipAddress_key)\n",
    "\n",
    "verify_ip = \"target_ip\"\n",
    "if verify_ip in target_ip and target_ip[verify_ip] == \"\":\n",
    "    target_address = input(\"No target IP found. Please enter the target IP address: \")\n",
    "    target_ip[verify_ip] = target_address\n",
    "    print(target_address)\n",
    "    print(\"ip address file has been updated\")\n",
    "        \n",
    "targetUser = \"username.json\"\n",
    "with open(targetUser, \"r\") as username_key:\n",
    "    target_user = json.load(username_key)\n",
    "\n",
    "verify_user = \"username\"\n",
    "if verify_user in target_user and target_user[verify_user] == \"\":\n",
    "    target_username = input(\"No username found. Please enter target username.\")\n",
    "    target_user[verify_user] = target_username\n",
    "    print(target_username)\n",
    "    print(\"username file has been updated\")\n",
    "\n",
    "# updating file\n",
    "with open(targetIP, \"w\") as ipAddress_key:\n",
    "    json.dump(target_ip, ipAddress_key, indent=4)\n",
    "    print(\"ip address file has been updated\")\n",
    "\n",
    "# updating file\n",
    "with open(targetUser, \"w\") as username_key:\n",
    "    json.dump(target_user, username_key, indent=4)\n",
    "    print(\"username file has been updated\")"
   ]
  }
 ],
 "metadata": {
  "kernelspec": {
   "display_name": "Python 3",
   "language": "python",
   "name": "python3"
  },
  "language_info": {
   "codemirror_mode": {
    "name": "ipython",
    "version": 3
   },
   "file_extension": ".py",
   "mimetype": "text/x-python",
   "name": "python",
   "nbconvert_exporter": "python",
   "pygments_lexer": "ipython3",
   "version": "3.12.4"
  }
 },
 "nbformat": 4,
 "nbformat_minor": 5
}
