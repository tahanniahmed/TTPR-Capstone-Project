{
 "cells": [
  {
   "cell_type": "code",
   "execution_count": null,
   "id": "bc7301e4",
   "metadata": {},
   "outputs": [],
   "source": []
  },
  {
   "cell_type": "code",
   "execution_count": 29,
   "id": "97b16edb",
   "metadata": {},
   "outputs": [
    {
     "name": "stdout",
     "output_type": "stream",
     "text": [
      "Encoded: UEFTU1RFU1Q=\n"
     ]
    }
   ],
   "source": [
    "import json\n",
    "import base64\n",
    "import requests\n",
    "import re\n",
    "\n",
    "# to maintain the integrity of the password, we will obfuscate it using base64 encoding for this project.\n",
    "# this is only to demostrate the concept of obfuscation and should not be used in production code, we only feed the actual password to the program because it is not part of the list in order to protect access to the VM. \n",
    "\n",
    "actual_password = input(\"PASSWORD: \")\n",
    "with open('password_key.json', 'w') as pass_key:\n",
    "    # encode (obfuscate)\n",
    "    actual_password = base64.b64encode(actual_password.encode()).decode()\n",
    "    print(\"Encoded:\", actual_password)\n",
    "    pass_data = pass_key.write(json.dumps({\"pass_key\": actual_password}))\n",
    "\n",
    "# web scraping the password list from KoreLogic's SecLists repository\n",
    "# this is a list of common passwords that can be used for testing purposes.\n",
    "url = 'https://raw.githubusercontent.com/danielmiessler/SecLists/refs/heads/master/Passwords/Permutations/korelogic-password.txt'\n",
    "\n",
    "data = requests.get(url)\n",
    "passwords = data.text.splitlines()\n",
    "\n",
    "for password in passwords:\n",
    "    with open('passwords.txt', 'a') as password_file:\n",
    "        password_file.write(password + '\\n')\n",
    "        \n",
    "with open('password_key.json', 'r') as pass_key:\n",
    "    # decode (restore)\n",
    "    decoded = base64.b64decode(actual_password.encode()).decode()\n",
    "\n",
    "# adding the actual password to the passwords.txt file\n",
    "with open('passwords.txt', 'a') as password_file:\n",
    "    password_file.write(decoded + '\\n')"
   ]
  },
  {
   "cell_type": "code",
   "execution_count": 2,
   "id": "c3101b80",
   "metadata": {},
   "outputs": [
    {
     "name": "stdout",
     "output_type": "stream",
     "text": [
      "WARNING: This script is intended for educational purposes only. Unauthorized access to computer systems is illegal and unethical.\n",
      "Only run this script on testing environments where you have explicit permission to perform security testing.\n",
      "\n",
      "Initializing Attack...\n",
      "10.01.10.10\n",
      "ip address file has been updated\n",
      "michael\n",
      "username file has been updated\n",
      "ip address file has been updated\n",
      "username file has been updated\n"
     ]
    }
   ],
   "source": [
    "import json\n",
    "\n",
    "print(\"WARNING: This script is intended for educational purposes only. Unauthorized access to computer systems is illegal and unethical.\")\n",
    "print(\"Only run this script on testing environments where you have explicit permission to perform security testing.\")\n",
    "print()\n",
    "print(\"Initializing Attack...\")\n",
    "\n",
    "targetIP = \"target_ip.json\"\n",
    "with open(targetIP, \"r\") as ipAddress_key:\n",
    "    target_ip = json.load(ipAddress_key)\n",
    "\n",
    "verify_ip = \"target_ip\"\n",
    "if verify_ip in target_ip and target_ip[verify_ip] == \"\":\n",
    "    target_address = input(\"No target IP found. Please enter the target IP address: \")\n",
    "    target_ip[verify_ip] = target_address\n",
    "    print(target_address)\n",
    "    print(\"ip address file has been updated\")\n",
    "        \n",
    "targetUser = \"username.json\"\n",
    "with open(targetUser, \"r\") as username_key:\n",
    "    target_user = json.load(username_key)\n",
    "\n",
    "verify_user = \"username\"\n",
    "if verify_user in target_user and target_user[verify_user] == \"\":\n",
    "    target_username = input(\"No username found. Please enter target username.\")\n",
    "    target_user[verify_user] = target_username\n",
    "    print(target_username)\n",
    "    print(\"username file has been updated\")\n",
    "\n",
    "# updating file\n",
    "with open(targetIP, \"w\") as ipAddress_key:\n",
    "    json.dump(target_ip, ipAddress_key, indent=4)\n",
    "\n",
    "# updating file\n",
    "with open(targetUser, \"w\") as username_key:\n",
    "    json.dump(target_user, username_key, indent=4)\n",
    "    print(\"username file has been updated\")"
   ]
  },
  {
   "cell_type": "code",
   "execution_count": 1,
   "id": "ad194417",
   "metadata": {},
   "outputs": [
    {
     "name": "stdout",
     "output_type": "stream",
     "text": [
      "Defaulting to user installation because normal site-packages is not writeable\n",
      "Collecting paramiko\n",
      "  Downloading paramiko-4.0.0-py3-none-any.whl.metadata (3.9 kB)\n",
      "Collecting bcrypt>=3.2 (from paramiko)\n",
      "  Downloading bcrypt-4.3.0-cp39-abi3-macosx_10_12_universal2.whl.metadata (10 kB)\n",
      "Requirement already satisfied: cryptography>=3.3 in /Users/michaelbarbey/Library/Python/3.12/lib/python/site-packages (from paramiko) (44.0.3)\n",
      "Collecting invoke>=2.0 (from paramiko)\n",
      "  Downloading invoke-2.2.0-py3-none-any.whl.metadata (3.3 kB)\n",
      "Collecting pynacl>=1.5 (from paramiko)\n",
      "  Downloading PyNaCl-1.5.0-cp36-abi3-macosx_10_10_universal2.whl.metadata (8.7 kB)\n",
      "Requirement already satisfied: cffi>=1.12 in /Users/michaelbarbey/Library/Python/3.12/lib/python/site-packages (from cryptography>=3.3->paramiko) (1.17.1)\n",
      "Requirement already satisfied: pycparser in /Users/michaelbarbey/Library/Python/3.12/lib/python/site-packages (from cffi>=1.12->cryptography>=3.3->paramiko) (2.22)\n",
      "Downloading paramiko-4.0.0-py3-none-any.whl (223 kB)\n",
      "Downloading bcrypt-4.3.0-cp39-abi3-macosx_10_12_universal2.whl (498 kB)\n",
      "Downloading invoke-2.2.0-py3-none-any.whl (160 kB)\n",
      "Downloading PyNaCl-1.5.0-cp36-abi3-macosx_10_10_universal2.whl (349 kB)\n",
      "Installing collected packages: invoke, bcrypt, pynacl, paramiko\n",
      "\u001b[2K   \u001b[90m━━━━━━━━━━━━━━━━━━━━━━━━━━━━━━━━━━━━━━━━\u001b[0m \u001b[32m4/4\u001b[0m [paramiko]\n",
      "\u001b[1A\u001b[2KSuccessfully installed bcrypt-4.3.0 invoke-2.2.0 paramiko-4.0.0 pynacl-1.5.0\n",
      "\n",
      "\u001b[1m[\u001b[0m\u001b[34;49mnotice\u001b[0m\u001b[1;39;49m]\u001b[0m\u001b[39;49m A new release of pip is available: \u001b[0m\u001b[31;49m25.1.1\u001b[0m\u001b[39;49m -> \u001b[0m\u001b[32;49m25.2\u001b[0m\n",
      "\u001b[1m[\u001b[0m\u001b[34;49mnotice\u001b[0m\u001b[1;39;49m]\u001b[0m\u001b[39;49m To update, run: \u001b[0m\u001b[32;49mpip3 install --upgrade pip\u001b[0m\n",
      "Note: you may need to restart the kernel to use updated packages.\n"
     ]
    }
   ],
   "source": [
    "pip install paramiko"
   ]
  },
  {
   "cell_type": "code",
   "execution_count": 25,
   "id": "7574627a",
   "metadata": {},
   "outputs": [],
   "source": [
    "import os\n",
    "import base64\n",
    "import json\n",
    "\n",
    "#base_dir = os.path.dirname(__file__)  # directory of app/__init__.py\n",
    "passKey = (\"password_key.json\")\n",
    "    \n",
    "actual_password = input(\"PASSWORD: \")\n",
    "with open(passKey, 'r') as pass_key:\n",
    "    pass_file = json.load(pass_key)\n",
    "\n",
    "# encode (obfuscate)\n",
    "encoded_pass = base64.b64encode(actual_password.encode()).decode()\n",
    "pass_file['pass_key'] = encoded_pass\n",
    "\n",
    "with open(passKey, \"w\") as pass_key:\n",
    "    json.dump(pass_file, pass_key, indent=4)  \n"
   ]
  }
 ],
 "metadata": {
  "kernelspec": {
   "display_name": "Python 3",
   "language": "python",
   "name": "python3"
  },
  "language_info": {
   "codemirror_mode": {
    "name": "ipython",
    "version": 3
   },
   "file_extension": ".py",
   "mimetype": "text/x-python",
   "name": "python",
   "nbconvert_exporter": "python",
   "pygments_lexer": "ipython3",
   "version": "3.12.4"
  }
 },
 "nbformat": 4,
 "nbformat_minor": 5
}
